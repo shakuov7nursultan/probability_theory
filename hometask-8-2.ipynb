{
 "cells": [
  {
   "cell_type": "code",
   "execution_count": 2,
   "metadata": {},
   "outputs": [],
   "source": [
    "import pandas as pd\n",
    "import numpy as np\n",
    "import matplotlib.pyplot as plt\n",
    "%matplotlib inline"
   ]
  },
  {
   "cell_type": "code",
   "execution_count": 3,
   "metadata": {},
   "outputs": [
    {
     "name": "stdout",
     "output_type": "stream",
     "text": [
      "Среднее выборочное:  118.10,\n",
      "Размер выборки n=10,\n",
      "Среднее квадратическое отклонение по выборке(несмещенное):  10.55.\n"
     ]
    }
   ],
   "source": [
    "arr=np.array([131, 125, 115, 122, 131, 115, 107, 99, 125, 111])\n",
    "print(f'Среднее выборочное: {np.mean(arr): .2f},\\n'\n",
    "      f'Размер выборки n={len(arr)},\\n'\n",
    "      f'Среднее квадратическое отклонение по выборке(несмещенное): {np.std(arr, ddof=1): .2f}.'\n",
    "     )"
   ]
  },
  {
   "cell_type": "code",
   "execution_count": 5,
   "metadata": {},
   "outputs": [],
   "source": [
    "import scipy.stats as stats"
   ]
  },
  {
   "cell_type": "code",
   "execution_count": 6,
   "metadata": {},
   "outputs": [
    {
     "name": "stdout",
     "output_type": "stream",
     "text": [
      "Табличное значение t-критерия для 95%-го доверительного интервала данной выборки:  2.262\n"
     ]
    }
   ],
   "source": [
    "def t_from_table(confidens, len_array):\n",
    "    alpha=(1-confidens)\n",
    "    return stats.t.ppf(1-alpha/2, len_array-1)\n",
    "print(f'Табличное значение t-критерия для 95%-го доверительного интервала данной выборки: {t_from_table(0.95, len(arr)): .3f}')"
   ]
  },
  {
   "cell_type": "code",
   "execution_count": 7,
   "metadata": {},
   "outputs": [
    {
     "name": "stdout",
     "output_type": "stream",
     "text": [
      "95%-й доверительный интервал для истинного значения IQ: (110.556, 125.644).\n"
     ]
    }
   ],
   "source": [
    "def confidens_int(arr, confidens):\n",
    "    return round(np.mean(arr)-t_from_table(confidens,len(arr))*np.std(arr, ddof=1)/len(arr)**0.5,3), \\\n",
    "           round(np.mean(arr)+t_from_table(confidens,len(arr))*np.std(arr, ddof=1)/len(arr)**0.5,3)\n",
    "\n",
    "print(f'95%-й доверительный интервал для истинного значения IQ: {confidens_int(arr, 0.95)}.')"
   ]
  }
 ],
 "metadata": {
  "kernelspec": {
   "display_name": "Python 3.10.7 64-bit",
   "language": "python",
   "name": "python3"
  },
  "language_info": {
   "codemirror_mode": {
    "name": "ipython",
    "version": 3
   },
   "file_extension": ".py",
   "mimetype": "text/x-python",
   "name": "python",
   "nbconvert_exporter": "python",
   "pygments_lexer": "ipython3",
   "version": "3.10.7"
  },
  "orig_nbformat": 4,
  "vscode": {
   "interpreter": {
    "hash": "98b2fb71c50ddfbff1a5e104e90526af06b89123ae77e8670ff2735e5571f551"
   }
  }
 },
 "nbformat": 4,
 "nbformat_minor": 2
}
